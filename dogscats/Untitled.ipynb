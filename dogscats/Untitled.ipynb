{
 "cells": [
  {
   "cell_type": "code",
   "execution_count": 1,
   "metadata": {},
   "outputs": [
    {
     "name": "stderr",
     "output_type": "stream",
     "text": [
      "Using TensorFlow backend.\n",
      "/home/jared/anaconda3/lib/python3.6/importlib/_bootstrap.py:219: RuntimeWarning: compiletime version 3.5 of module 'tensorflow.python.framework.fast_tensor_util' does not match runtime version 3.6\n",
      "  return f(*args, **kwds)\n"
     ]
    }
   ],
   "source": [
    "import keras"
   ]
  },
  {
   "cell_type": "markdown",
   "metadata": {},
   "source": [
    "# Data Prep"
   ]
  },
  {
   "cell_type": "code",
   "execution_count": 2,
   "metadata": {},
   "outputs": [
    {
     "name": "stdout",
     "output_type": "stream",
     "text": [
      "/home/jared/courses/deeplearning2/Kaggle/dogscats/data\n"
     ]
    }
   ],
   "source": [
    "%cd data\n",
    "\n",
    "data_dir = %pwd\n",
    "train_dir = data_dir + '/train/'\n",
    "valid_dir = data_dir + '/valid/'\n",
    "test_dir = data_dir + '/test/'\n",
    "sample_dir = data_dir + '/sample/'"
   ]
  },
  {
   "cell_type": "code",
   "execution_count": 3,
   "metadata": {},
   "outputs": [],
   "source": [
    "import os\n",
    "from glob import glob\n",
    "import numpy as np\n",
    "from shutil import copyfile\n",
    "\n",
    "num_valid = 1000\n",
    "num_sample = 64\n",
    "\n",
    "classes = ['cat', 'dog']\n"
   ]
  },
  {
   "cell_type": "code",
   "execution_count": 28,
   "metadata": {},
   "outputs": [],
   "source": [
    "for cls in classes:\n",
    "    os.mkdir(train_dir + cls, 775)\n",
    "    os.mkdir(valid_dir + cls, 775)\n",
    "    os.mkdir(sample_dir + 'train/' + cls, 775)\n",
    "    os.mkdir(sample_dir + 'valid/' + cls, 775)    "
   ]
  },
  {
   "cell_type": "code",
   "execution_count": 29,
   "metadata": {},
   "outputs": [],
   "source": [
    "\n",
    "for cls in classes:\n",
    "    files = glob(train_dir + cls + '*.jpg')\n",
    "    np.random.shuffle(files)\n",
    "\n",
    "    for file in files[:num_sample]:\n",
    "        copyfile(file, sample_dir + 'train/' + cls + '/' + os.path.basename(file))\n",
    "        \n",
    "    for file in files[num_sample:num_sample+num_sample]:\n",
    "        copyfile(file, sample_dir + 'valid/' + cls + '/' + os.path.basename(file))\n",
    "    \n",
    "    for file in files[:num_valid]:\n",
    "        os.rename(file, valid_dir + cls + '/' + os.path.basename(file))\n",
    "        \n",
    "    for file in files[num_valid:]:\n",
    "        os.rename(file, train_dir + cls + '/' + os.path.basename(file))\n",
    "    \n"
   ]
  },
  {
   "cell_type": "markdown",
   "metadata": {},
   "source": [
    "# Simple Model"
   ]
  },
  {
   "cell_type": "code",
   "execution_count": 4,
   "metadata": {},
   "outputs": [],
   "source": [
    "from keras.models import Sequential\n",
    "from keras.layers import Dense, BatchNormalization, Dropout, Flatten, Convolution2D, MaxPooling2D, Input\n",
    "from keras.optimizers import Adam\n",
    "\n",
    "#base_dir = sample_dir\n",
    "path = data_dir + '/'\n",
    "batch_size = 64\n",
    "image_size = (224,224)\n",
    "image_shape = (*image_size, 3)"
   ]
  },
  {
   "cell_type": "code",
   "execution_count": 5,
   "metadata": {},
   "outputs": [
    {
     "name": "stdout",
     "output_type": "stream",
     "text": [
      "Found 23000 images belonging to 2 classes.\n",
      "Found 2000 images belonging to 2 classes.\n"
     ]
    }
   ],
   "source": [
    "from keras.preprocessing.image import ImageDataGenerator\n",
    "\n",
    "gen = ImageDataGenerator()\n",
    "val_gen = ImageDataGenerator()\n",
    "\n",
    "batches = gen.flow_from_directory(path+'train/', target_size=image_size, batch_size=batch_size, shuffle=True)\n",
    "val_batches = val_gen.flow_from_directory(path+'valid/', target_size=image_size, batch_size=batch_size, shuffle=True)\n",
    "\n",
    "train_steps = batches.n//batch_size\n",
    "val_steps = val_batches.n//batch_size\n",
    "\n",
    "if (val_steps == 0):\n",
    "    val_steps = 1"
   ]
  },
  {
   "cell_type": "code",
   "execution_count": 104,
   "metadata": {},
   "outputs": [
    {
     "name": "stdout",
     "output_type": "stream",
     "text": [
      "_________________________________________________________________\n",
      "Layer (type)                 Output Shape              Param #   \n",
      "=================================================================\n",
      "batch_normalization_2 (Batch (None, 128, 128, 3)       12        \n",
      "_________________________________________________________________\n",
      "conv2d_16 (Conv2D)           (None, 126, 126, 64)      1792      \n",
      "_________________________________________________________________\n",
      "max_pooling2d_13 (MaxPooling (None, 63, 63, 64)        0         \n",
      "_________________________________________________________________\n",
      "conv2d_17 (Conv2D)           (None, 61, 61, 64)        36928     \n",
      "_________________________________________________________________\n",
      "max_pooling2d_14 (MaxPooling (None, 30, 30, 64)        0         \n",
      "_________________________________________________________________\n",
      "flatten_14 (Flatten)         (None, 57600)             0         \n",
      "_________________________________________________________________\n",
      "dense_16 (Dense)             (None, 124)               7142524   \n",
      "_________________________________________________________________\n",
      "dense_17 (Dense)             (None, 2)                 250       \n",
      "=================================================================\n",
      "Total params: 7,181,506\n",
      "Trainable params: 7,181,500\n",
      "Non-trainable params: 6\n",
      "_________________________________________________________________\n"
     ]
    }
   ],
   "source": [
    "model = Sequential([\n",
    "    BatchNormalization(input_shape=image_shape)\n",
    "    , Convolution2D(64, (3,3), activation='relu')\n",
    "    , MaxPooling2D((2,2))\n",
    "    , Convolution2D(64, (3,3), activation='relu')\n",
    "    , MaxPooling2D((2,2))\n",
    "    , Flatten()\n",
    "    , Dense(124, activation='relu')\n",
    "    , Dense(2, activation='softmax')\n",
    "])\n",
    "\n",
    "model.compile(optimizer=Adam(), loss='categorical_crossentropy', metrics=['accuracy'])\n",
    "model.summary()"
   ]
  },
  {
   "cell_type": "code",
   "execution_count": 96,
   "metadata": {},
   "outputs": [
    {
     "name": "stdout",
     "output_type": "stream",
     "text": [
      "Epoch 1/1\n",
      "359/359 [==============================] - 75s - loss: 0.6704 - acc: 0.6494 - val_loss: 0.5757 - val_acc: 0.6699\n"
     ]
    },
    {
     "data": {
      "text/plain": [
       "<keras.callbacks.History at 0x7fb020ac59b0>"
      ]
     },
     "execution_count": 96,
     "metadata": {},
     "output_type": "execute_result"
    }
   ],
   "source": [
    "model.fit_generator(batches, train_steps, epochs=1, validation_data=val_batches, validation_steps=val_steps)"
   ]
  },
  {
   "cell_type": "markdown",
   "metadata": {},
   "source": [
    "# Transfer Learning"
   ]
  },
  {
   "cell_type": "code",
   "execution_count": 6,
   "metadata": {},
   "outputs": [
    {
     "name": "stdout",
     "output_type": "stream",
     "text": [
      "Found 23000 images belonging to 2 classes.\n",
      "Found 2000 images belonging to 2 classes.\n"
     ]
    }
   ],
   "source": [
    "batches = gen.flow_from_directory(path+'train/', target_size=image_size, batch_size=batch_size, shuffle=False)\n",
    "val_batches = val_gen.flow_from_directory(path+'valid/', target_size=image_size, batch_size=batch_size, shuffle=False)"
   ]
  },
  {
   "cell_type": "code",
   "execution_count": 22,
   "metadata": {},
   "outputs": [],
   "source": []
  },
  {
   "cell_type": "code",
   "execution_count": 7,
   "metadata": {},
   "outputs": [
    {
     "name": "stdout",
     "output_type": "stream",
     "text": [
      "_________________________________________________________________\n",
      "Layer (type)                 Output Shape              Param #   \n",
      "=================================================================\n",
      "input_1 (InputLayer)         (None, 224, 224, 3)       0         \n",
      "_________________________________________________________________\n",
      "block1_conv1 (Conv2D)        (None, 224, 224, 64)      1792      \n",
      "_________________________________________________________________\n",
      "block1_conv2 (Conv2D)        (None, 224, 224, 64)      36928     \n",
      "_________________________________________________________________\n",
      "block1_pool (MaxPooling2D)   (None, 112, 112, 64)      0         \n",
      "_________________________________________________________________\n",
      "block2_conv1 (Conv2D)        (None, 112, 112, 128)     73856     \n",
      "_________________________________________________________________\n",
      "block2_conv2 (Conv2D)        (None, 112, 112, 128)     147584    \n",
      "_________________________________________________________________\n",
      "block2_pool (MaxPooling2D)   (None, 56, 56, 128)       0         \n",
      "_________________________________________________________________\n",
      "block3_conv1 (Conv2D)        (None, 56, 56, 256)       295168    \n",
      "_________________________________________________________________\n",
      "block3_conv2 (Conv2D)        (None, 56, 56, 256)       590080    \n",
      "_________________________________________________________________\n",
      "block3_conv3 (Conv2D)        (None, 56, 56, 256)       590080    \n",
      "_________________________________________________________________\n",
      "block3_pool (MaxPooling2D)   (None, 28, 28, 256)       0         \n",
      "_________________________________________________________________\n",
      "block4_conv1 (Conv2D)        (None, 28, 28, 512)       1180160   \n",
      "_________________________________________________________________\n",
      "block4_conv2 (Conv2D)        (None, 28, 28, 512)       2359808   \n",
      "_________________________________________________________________\n",
      "block4_conv3 (Conv2D)        (None, 28, 28, 512)       2359808   \n",
      "_________________________________________________________________\n",
      "block4_pool (MaxPooling2D)   (None, 14, 14, 512)       0         \n",
      "_________________________________________________________________\n",
      "block5_conv1 (Conv2D)        (None, 14, 14, 512)       2359808   \n",
      "_________________________________________________________________\n",
      "block5_conv2 (Conv2D)        (None, 14, 14, 512)       2359808   \n",
      "_________________________________________________________________\n",
      "block5_conv3 (Conv2D)        (None, 14, 14, 512)       2359808   \n",
      "_________________________________________________________________\n",
      "block5_pool (MaxPooling2D)   (None, 7, 7, 512)         0         \n",
      "_________________________________________________________________\n",
      "global_average_pooling2d_1 ( (None, 512)               0         \n",
      "=================================================================\n",
      "Total params: 14,714,688\n",
      "Trainable params: 14,714,688\n",
      "Non-trainable params: 0\n",
      "_________________________________________________________________\n"
     ]
    }
   ],
   "source": [
    "from keras.applications.vgg16 import VGG16\n",
    "\n",
    "vgg = VGG16(include_top=False, input_shape=image_shape, pooling='avg')\n",
    "vgg.summary()"
   ]
  },
  {
   "cell_type": "code",
   "execution_count": 8,
   "metadata": {},
   "outputs": [],
   "source": [
    "X_train = vgg.predict_generator(batches, train_steps+1)\n",
    "y_train = keras.utils.np_utils.to_categorical(batches.classes)"
   ]
  },
  {
   "cell_type": "code",
   "execution_count": 9,
   "metadata": {},
   "outputs": [],
   "source": [
    "X_valid = vgg.predict_generator(val_batches, val_steps+1)\n",
    "y_valid = val_batches.classes"
   ]
  },
  {
   "cell_type": "code",
   "execution_count": 23,
   "metadata": {},
   "outputs": [
    {
     "name": "stdout",
     "output_type": "stream",
     "text": [
      "Found 23000 images belonging to 2 classes.\n"
     ]
    }
   ],
   "source": [
    "\n"
   ]
  },
  {
   "cell_type": "code",
   "execution_count": 14,
   "metadata": {},
   "outputs": [],
   "source": [
    "import bcolz\n",
    "\n",
    "def save_array(fname, arr):\n",
    "    c=bcolz.carray(arr, rootdir=fname, mode='w')\n",
    "    c.flush()\n",
    "    \n",
    "def load_array(fname):\n",
    "    return bcolz.open(fname)[:]"
   ]
  },
  {
   "cell_type": "code",
   "execution_count": 13,
   "metadata": {},
   "outputs": [
    {
     "name": "stdout",
     "output_type": "stream",
     "text": [
      "(23000, 512) (2000, 512)\n"
     ]
    }
   ],
   "source": [
    "save_array(path + 'train_vgg_average_pool_features.bc', X_train)\n",
    "save_array(path + 'valid_vgg_average_pool_features.bc', X_valid)\n",
    "\n",
    "print(X_train.shape, X_valid.shape)"
   ]
  },
  {
   "cell_type": "code",
   "execution_count": 16,
   "metadata": {},
   "outputs": [
    {
     "name": "stdout",
     "output_type": "stream",
     "text": [
      "(23000, 512) (2000, 512)\n"
     ]
    }
   ],
   "source": [
    "X_train = load_array(path + 'train_vgg_average_pool_features.bc')\n",
    "X_valid = load_array(path + 'valid_vgg_average_pool_features.bc')\n",
    "\n",
    "print(X_train.shape, X_valid.shape)"
   ]
  },
  {
   "cell_type": "code",
   "execution_count": 17,
   "metadata": {},
   "outputs": [],
   "source": [
    "y_train = keras.utils.np_utils.to_categorical(batches.classes)\n",
    "y_valid = keras.utils.np_utils.to_categorical(val_batches.classes)"
   ]
  },
  {
   "cell_type": "code",
   "execution_count": 18,
   "metadata": {},
   "outputs": [
    {
     "name": "stdout",
     "output_type": "stream",
     "text": [
      "_________________________________________________________________\n",
      "Layer (type)                 Output Shape              Param #   \n",
      "=================================================================\n",
      "batch_normalization_1 (Batch (None, 512)               2048      \n",
      "_________________________________________________________________\n",
      "dense_1 (Dense)              (None, 512)               262656    \n",
      "_________________________________________________________________\n",
      "batch_normalization_2 (Batch (None, 512)               2048      \n",
      "_________________________________________________________________\n",
      "dropout_1 (Dropout)          (None, 512)               0         \n",
      "_________________________________________________________________\n",
      "dense_2 (Dense)              (None, 2)                 1026      \n",
      "=================================================================\n",
      "Total params: 267,778\n",
      "Trainable params: 265,730\n",
      "Non-trainable params: 2,048\n",
      "_________________________________________________________________\n"
     ]
    }
   ],
   "source": [
    "model = Sequential([\n",
    "    BatchNormalization(input_shape=vgg.output_shape[1:])\n",
    "    , Dense(512, activation='relu')\n",
    "    , BatchNormalization()\n",
    "    , Dropout(.5)\n",
    "    , Dense(2, activation='softmax')\n",
    "])\n",
    "\n",
    "model.compile(optimizer=Adam(), loss='categorical_crossentropy', metrics=['accuracy'])\n",
    "model.summary()"
   ]
  },
  {
   "cell_type": "code",
   "execution_count": 19,
   "metadata": {},
   "outputs": [
    {
     "name": "stdout",
     "output_type": "stream",
     "text": [
      "Train on 23000 samples, validate on 2000 samples\n",
      "Epoch 1/4\n",
      "23000/23000 [==============================] - 5s - loss: 0.1541 - acc: 0.9453 - val_loss: 0.0798 - val_acc: 0.9705\n",
      "Epoch 2/4\n",
      "23000/23000 [==============================] - 4s - loss: 0.1004 - acc: 0.9604 - val_loss: 0.0691 - val_acc: 0.9745\n",
      "Epoch 3/4\n",
      "23000/23000 [==============================] - 4s - loss: 0.0930 - acc: 0.9645 - val_loss: 0.0694 - val_acc: 0.9730\n",
      "Epoch 4/4\n",
      "23000/23000 [==============================] - 4s - loss: 0.0848 - acc: 0.9661 - val_loss: 0.0736 - val_acc: 0.9710\n"
     ]
    },
    {
     "data": {
      "text/plain": [
       "<keras.callbacks.History at 0x7f57583cd518>"
      ]
     },
     "execution_count": 19,
     "metadata": {},
     "output_type": "execute_result"
    }
   ],
   "source": [
    "model.fit(X_train, y_train, epochs=4, validation_data=(X_valid, y_valid))"
   ]
  },
  {
   "cell_type": "code",
   "execution_count": 93,
   "metadata": {},
   "outputs": [
    {
     "name": "stdout",
     "output_type": "stream",
     "text": [
      "Train on 22976 samples, validate on 1984 samples\n",
      "Epoch 1/8\n",
      "22976/22976 [==============================] - 5s - loss: 0.1477 - acc: 0.9397 - val_loss: 0.1325 - val_acc: 0.9380\n",
      "Epoch 2/8\n",
      "22976/22976 [==============================] - 5s - loss: 0.1377 - acc: 0.9441 - val_loss: 0.1468 - val_acc: 0.9380\n",
      "Epoch 3/8\n",
      "22976/22976 [==============================] - 5s - loss: 0.1256 - acc: 0.9487 - val_loss: 0.1411 - val_acc: 0.9370\n",
      "Epoch 4/8\n",
      "22976/22976 [==============================] - 5s - loss: 0.1173 - acc: 0.9543 - val_loss: 0.1496 - val_acc: 0.9345\n",
      "Epoch 5/8\n",
      "22976/22976 [==============================] - 5s - loss: 0.1120 - acc: 0.9560 - val_loss: 0.1334 - val_acc: 0.9486\n",
      "Epoch 6/8\n",
      "22976/22976 [==============================] - 5s - loss: 0.1032 - acc: 0.9594 - val_loss: 0.1418 - val_acc: 0.9410\n",
      "Epoch 7/8\n",
      "22976/22976 [==============================] - 5s - loss: 0.1092 - acc: 0.9574 - val_loss: 0.1374 - val_acc: 0.9405\n",
      "Epoch 8/8\n",
      "22976/22976 [==============================] - 5s - loss: 0.0970 - acc: 0.9619 - val_loss: 0.1399 - val_acc: 0.9415\n"
     ]
    },
    {
     "data": {
      "text/plain": [
       "<keras.callbacks.History at 0x7f9481c16128>"
      ]
     },
     "execution_count": 93,
     "metadata": {},
     "output_type": "execute_result"
    }
   ],
   "source": [
    "model.optimizer.lr = .0001\n",
    "model.fit(X_train, y_train, epochs=8, validation_data=(X_valid, y_valid))"
   ]
  },
  {
   "cell_type": "code",
   "execution_count": 88,
   "metadata": {},
   "outputs": [
    {
     "name": "stdout",
     "output_type": "stream",
     "text": [
      "Train on 22976 samples, validate on 1984 samples\n",
      "Epoch 1/12\n",
      "22976/22976 [==============================] - 3s - loss: 0.0970 - acc: 0.9625 - val_loss: 0.1490 - val_acc: 0.9420\n",
      "Epoch 2/12\n",
      "22976/22976 [==============================] - 3s - loss: 0.0951 - acc: 0.9646 - val_loss: 0.1767 - val_acc: 0.9405\n",
      "Epoch 3/12\n",
      "22976/22976 [==============================] - 3s - loss: 0.0961 - acc: 0.9640 - val_loss: 0.1651 - val_acc: 0.9476\n",
      "Epoch 4/12\n",
      "22976/22976 [==============================] - 3s - loss: 0.0913 - acc: 0.9659 - val_loss: 0.2074 - val_acc: 0.9400\n",
      "Epoch 5/12\n",
      "22976/22976 [==============================] - 3s - loss: 0.0804 - acc: 0.9713 - val_loss: 0.1729 - val_acc: 0.9430\n",
      "Epoch 6/12\n",
      "22976/22976 [==============================] - 3s - loss: 0.0784 - acc: 0.9711 - val_loss: 0.1854 - val_acc: 0.9446\n",
      "Epoch 7/12\n",
      "22976/22976 [==============================] - 3s - loss: 0.0752 - acc: 0.9725 - val_loss: 0.1689 - val_acc: 0.9496\n",
      "Epoch 8/12\n",
      "22976/22976 [==============================] - 3s - loss: 0.0779 - acc: 0.9728 - val_loss: 0.1992 - val_acc: 0.9415\n",
      "Epoch 9/12\n",
      "22976/22976 [==============================] - 3s - loss: 0.0743 - acc: 0.9738 - val_loss: 0.2131 - val_acc: 0.9471\n",
      "Epoch 10/12\n",
      "22976/22976 [==============================] - 3s - loss: 0.0683 - acc: 0.9755 - val_loss: 0.1848 - val_acc: 0.9425\n",
      "Epoch 11/12\n",
      "22976/22976 [==============================] - 3s - loss: 0.0648 - acc: 0.9768 - val_loss: 0.1981 - val_acc: 0.9451\n",
      "Epoch 12/12\n",
      "22976/22976 [==============================] - 3s - loss: 0.0672 - acc: 0.9757 - val_loss: 0.1967 - val_acc: 0.9441\n"
     ]
    },
    {
     "data": {
      "text/plain": [
       "<keras.callbacks.History at 0x7f94949f6198>"
      ]
     },
     "execution_count": 88,
     "metadata": {},
     "output_type": "execute_result"
    }
   ],
   "source": [
    "model.optimizer.lr = .00001\n",
    "model.fit(X_train, y_train, epochs=12, validation_data=(X_valid, y_valid))"
   ]
  },
  {
   "cell_type": "code",
   "execution_count": 89,
   "metadata": {},
   "outputs": [
    {
     "name": "stdout",
     "output_type": "stream",
     "text": [
      "Train on 22976 samples, validate on 1984 samples\n",
      "Epoch 1/16\n",
      "22976/22976 [==============================] - 3s - loss: 0.0652 - acc: 0.9779 - val_loss: 0.1988 - val_acc: 0.9415\n",
      "Epoch 2/16\n",
      "22976/22976 [==============================] - 3s - loss: 0.0668 - acc: 0.9772 - val_loss: 0.2153 - val_acc: 0.9476\n",
      "Epoch 3/16\n",
      "22976/22976 [==============================] - 3s - loss: 0.0605 - acc: 0.9785 - val_loss: 0.2109 - val_acc: 0.9456\n",
      "Epoch 4/16\n",
      "22976/22976 [==============================] - 3s - loss: 0.0574 - acc: 0.9807 - val_loss: 0.2363 - val_acc: 0.9425\n",
      "Epoch 5/16\n",
      "22976/22976 [==============================] - 3s - loss: 0.0589 - acc: 0.9798 - val_loss: 0.2386 - val_acc: 0.9456\n",
      "Epoch 6/16\n",
      "22976/22976 [==============================] - 3s - loss: 0.0612 - acc: 0.9794 - val_loss: 0.2152 - val_acc: 0.9466\n",
      "Epoch 7/16\n",
      "22976/22976 [==============================] - 3s - loss: 0.0562 - acc: 0.9815 - val_loss: 0.2216 - val_acc: 0.9491\n",
      "Epoch 8/16\n",
      "22976/22976 [==============================] - 3s - loss: 0.0576 - acc: 0.9800 - val_loss: 0.2528 - val_acc: 0.9461\n",
      "Epoch 9/16\n",
      "22976/22976 [==============================] - 3s - loss: 0.0562 - acc: 0.9809 - val_loss: 0.2480 - val_acc: 0.9441\n",
      "Epoch 10/16\n",
      "22976/22976 [==============================] - 3s - loss: 0.0526 - acc: 0.9809 - val_loss: 0.2590 - val_acc: 0.9481\n",
      "Epoch 11/16\n",
      "22976/22976 [==============================] - 3s - loss: 0.0456 - acc: 0.9847 - val_loss: 0.2419 - val_acc: 0.9435\n",
      "Epoch 12/16\n",
      "22976/22976 [==============================] - 3s - loss: 0.0497 - acc: 0.9841 - val_loss: 0.2735 - val_acc: 0.9446\n",
      "Epoch 13/16\n",
      "22976/22976 [==============================] - 3s - loss: 0.0519 - acc: 0.9833 - val_loss: 0.2669 - val_acc: 0.9430\n",
      "Epoch 14/16\n",
      "22976/22976 [==============================] - 3s - loss: 0.0510 - acc: 0.9829 - val_loss: 0.2729 - val_acc: 0.9446\n",
      "Epoch 15/16\n",
      "22976/22976 [==============================] - 3s - loss: 0.0561 - acc: 0.9809 - val_loss: 0.2897 - val_acc: 0.9405\n",
      "Epoch 16/16\n",
      "22976/22976 [==============================] - 3s - loss: 0.0518 - acc: 0.9832 - val_loss: 0.2640 - val_acc: 0.9481\n"
     ]
    },
    {
     "data": {
      "text/plain": [
       "<keras.callbacks.History at 0x7f94949f6550>"
      ]
     },
     "execution_count": 89,
     "metadata": {},
     "output_type": "execute_result"
    }
   ],
   "source": [
    "model.optimizer.lr = .000001\n",
    "model.fit(X_train, y_train, epochs=16, validation_data=(X_valid, y_valid))"
   ]
  },
  {
   "cell_type": "markdown",
   "metadata": {},
   "source": [
    "# Data Augmentation"
   ]
  },
  {
   "cell_type": "code",
   "execution_count": 27,
   "metadata": {},
   "outputs": [],
   "source": [
    "def get_augmented_images(path, image_size, batch_size):\n",
    "    gen = ImageDataGenerator(\n",
    "        rotation_range=90.,\n",
    "        zoom_range=2.,\n",
    "        fill_mode='nearest',\n",
    "        horizontal_flip=True,\n",
    "        vertical_flip=True)\n",
    "    \n",
    "    return gen.flow_from_directory(path, target_size=image_size, batch_size=batch_size, shuffle=False)"
   ]
  },
  {
   "cell_type": "code",
   "execution_count": 28,
   "metadata": {},
   "outputs": [
    {
     "name": "stdout",
     "output_type": "stream",
     "text": [
      "Found 23000 images belonging to 2 classes.\n",
      "Found 23000 images belonging to 2 classes.\n",
      "Found 23000 images belonging to 2 classes.\n"
     ]
    }
   ],
   "source": [
    "X_train_aug_1 = vgg.predict_generator(get_augmented_images(path+'train/', image_size, batch_size), train_steps+1)\n",
    "X_train_aug_2 = vgg.predict_generator(get_augmented_images(path+'train/', image_size, batch_size), train_steps+1)\n",
    "X_train_aug_3 = vgg.predict_generator(get_augmented_images(path+'train/', image_size, batch_size), train_steps+1)"
   ]
  },
  {
   "cell_type": "code",
   "execution_count": 29,
   "metadata": {},
   "outputs": [],
   "source": [
    "save_array(path + 'train_vgg_average_pool_features_augmented_1.bc', X_train_aug_1)\n",
    "save_array(path + 'train_vgg_average_pool_features_augmented_2.bc', X_train_aug_2)\n",
    "save_array(path + 'train_vgg_average_pool_features_augmented_3.bc', X_train_aug_3)"
   ]
  },
  {
   "cell_type": "code",
   "execution_count": null,
   "metadata": {},
   "outputs": [],
   "source": []
  },
  {
   "cell_type": "code",
   "execution_count": 41,
   "metadata": {},
   "outputs": [],
   "source": [
    "y_train = keras.utils.np_utils.to_categorical(batches.classes)"
   ]
  },
  {
   "cell_type": "code",
   "execution_count": 42,
   "metadata": {},
   "outputs": [
    {
     "name": "stdout",
     "output_type": "stream",
     "text": [
      "(23000, 512) (23000, 512)\n"
     ]
    }
   ],
   "source": [
    "X_train = load_array(path + 'train_vgg_average_pool_features.bc')\n",
    "X_train_aug_1 = load_array(path + 'train_vgg_average_pool_features_augmented_1.bc')\n",
    "X_train_aug_2 = load_array(path + 'train_vgg_average_pool_features_augmented_2.bc')\n",
    "X_train_aug_3 = load_array(path + 'train_vgg_average_pool_features_augmented_3.bc')\n",
    "\n",
    "print(X_train.shape, X_train_aug_1.shape)"
   ]
  },
  {
   "cell_type": "code",
   "execution_count": 43,
   "metadata": {},
   "outputs": [],
   "source": [
    "X_valid = load_array(path + 'valid_vgg_average_pool_features.bc')\n",
    "y_valid = keras.utils.np_utils.to_categorical(val_batches.classes)"
   ]
  },
  {
   "cell_type": "code",
   "execution_count": 52,
   "metadata": {},
   "outputs": [
    {
     "name": "stdout",
     "output_type": "stream",
     "text": [
      "_________________________________________________________________\n",
      "Layer (type)                 Output Shape              Param #   \n",
      "=================================================================\n",
      "batch_normalization_9 (Batch (None, 512)               2048      \n",
      "_________________________________________________________________\n",
      "dropout_6 (Dropout)          (None, 512)               0         \n",
      "_________________________________________________________________\n",
      "dense_9 (Dense)              (None, 512)               262656    \n",
      "_________________________________________________________________\n",
      "batch_normalization_10 (Batc (None, 512)               2048      \n",
      "_________________________________________________________________\n",
      "dropout_7 (Dropout)          (None, 512)               0         \n",
      "_________________________________________________________________\n",
      "dense_10 (Dense)             (None, 1024)              525312    \n",
      "_________________________________________________________________\n",
      "batch_normalization_11 (Batc (None, 1024)              4096      \n",
      "_________________________________________________________________\n",
      "dropout_8 (Dropout)          (None, 1024)              0         \n",
      "_________________________________________________________________\n",
      "dense_11 (Dense)             (None, 2)                 2050      \n",
      "=================================================================\n",
      "Total params: 798,210\n",
      "Trainable params: 794,114\n",
      "Non-trainable params: 4,096\n",
      "_________________________________________________________________\n"
     ]
    }
   ],
   "source": [
    "model = Sequential([\n",
    "    BatchNormalization(input_shape=vgg.output_shape[1:])\n",
    "    , Dropout(.5)\n",
    "    , Dense(512, activation='relu')\n",
    "    , BatchNormalization()\n",
    "    , Dropout(.5)\n",
    "    , Dense(1024, activation='relu')\n",
    "    , BatchNormalization()\n",
    "    , Dropout(.5)\n",
    "    , Dense(2, activation='softmax')\n",
    "])\n",
    "\n",
    "model.compile(optimizer=Adam(), loss='categorical_crossentropy', metrics=['accuracy'])\n",
    "model.summary()"
   ]
  },
  {
   "cell_type": "code",
   "execution_count": 53,
   "metadata": {},
   "outputs": [
    {
     "name": "stdout",
     "output_type": "stream",
     "text": [
      "Train on 23000 samples, validate on 2000 samples\n",
      "Epoch 1/1\n",
      "23000/23000 [==============================] - 7s - loss: 0.2623 - acc: 0.9118 - val_loss: 0.0886 - val_acc: 0.9670\n",
      "Train on 23000 samples, validate on 2000 samples\n",
      "Epoch 1/1\n",
      "23000/23000 [==============================] - 6s - loss: 0.6468 - acc: 0.6551 - val_loss: 0.1873 - val_acc: 0.9390\n",
      "Train on 23000 samples, validate on 2000 samples\n",
      "Epoch 1/1\n",
      "23000/23000 [==============================] - 6s - loss: 0.5970 - acc: 0.6783 - val_loss: 0.1258 - val_acc: 0.9535\n",
      "Train on 23000 samples, validate on 2000 samples\n",
      "Epoch 1/1\n",
      "23000/23000 [==============================] - 6s - loss: 0.5834 - acc: 0.6864 - val_loss: 0.1276 - val_acc: 0.9460\n"
     ]
    },
    {
     "data": {
      "text/plain": [
       "<keras.callbacks.History at 0x7f56f4211a90>"
      ]
     },
     "execution_count": 53,
     "metadata": {},
     "output_type": "execute_result"
    }
   ],
   "source": [
    "model.fit(X_train, y_train, epochs=1, validation_data=(X_valid, y_valid))\n",
    "model.fit(X_train_aug_1, y_train, epochs=1, validation_data=(X_valid, y_valid))\n",
    "model.fit(X_train_aug_2, y_train, epochs=1, validation_data=(X_valid, y_valid))\n",
    "model.fit(X_train_aug_3, y_train, epochs=1, validation_data=(X_valid, y_valid))"
   ]
  },
  {
   "cell_type": "code",
   "execution_count": 54,
   "metadata": {},
   "outputs": [
    {
     "name": "stdout",
     "output_type": "stream",
     "text": [
      "Train on 23000 samples, validate on 2000 samples\n",
      "Epoch 1/1\n",
      "23000/23000 [==============================] - 6s - loss: 0.1656 - acc: 0.9324 - val_loss: 0.0833 - val_acc: 0.9695\n",
      "Train on 23000 samples, validate on 2000 samples\n",
      "Epoch 1/1\n",
      "23000/23000 [==============================] - 6s - loss: 0.5979 - acc: 0.6834 - val_loss: 0.1280 - val_acc: 0.9515\n",
      "Train on 23000 samples, validate on 2000 samples\n",
      "Epoch 1/1\n",
      "23000/23000 [==============================] - 6s - loss: 0.5824 - acc: 0.6868 - val_loss: 0.1737 - val_acc: 0.9415\n",
      "Train on 23000 samples, validate on 2000 samples\n",
      "Epoch 1/1\n",
      "23000/23000 [==============================] - 6s - loss: 0.5700 - acc: 0.6970 - val_loss: 0.1324 - val_acc: 0.9490\n",
      "Train on 23000 samples, validate on 2000 samples\n",
      "Epoch 1/1\n",
      "23000/23000 [==============================] - 6s - loss: 0.1537 - acc: 0.9357 - val_loss: 0.0785 - val_acc: 0.9685\n",
      "Train on 23000 samples, validate on 2000 samples\n",
      "Epoch 1/1\n",
      "23000/23000 [==============================] - 6s - loss: 0.5791 - acc: 0.6927 - val_loss: 0.0993 - val_acc: 0.9590\n",
      "Train on 23000 samples, validate on 2000 samples\n",
      "Epoch 1/1\n",
      "23000/23000 [==============================] - 6s - loss: 0.5647 - acc: 0.7023 - val_loss: 0.1374 - val_acc: 0.9625\n",
      "Train on 23000 samples, validate on 2000 samples\n",
      "Epoch 1/1\n",
      "23000/23000 [==============================] - 6s - loss: 0.5570 - acc: 0.7081 - val_loss: 0.1151 - val_acc: 0.9535\n"
     ]
    }
   ],
   "source": [
    "model.optimizer.lr = .0001\n",
    "for _ in range(2):\n",
    "    model.fit(X_train, y_train, epochs=1, validation_data=(X_valid, y_valid))\n",
    "    model.fit(X_train_aug_1, y_train, epochs=1, validation_data=(X_valid, y_valid))\n",
    "    model.fit(X_train_aug_2, y_train, epochs=1, validation_data=(X_valid, y_valid))\n",
    "    model.fit(X_train_aug_3, y_train, epochs=1, validation_data=(X_valid, y_valid))"
   ]
  },
  {
   "cell_type": "code",
   "execution_count": null,
   "metadata": {},
   "outputs": [
    {
     "name": "stdout",
     "output_type": "stream",
     "text": [
      "Train on 23000 samples, validate on 2000 samples\n",
      "Epoch 1/1\n",
      "23000/23000 [==============================] - 6s - loss: 0.1558 - acc: 0.9382 - val_loss: 0.0814 - val_acc: 0.9710\n",
      "Train on 23000 samples, validate on 2000 samples\n",
      "Epoch 1/1\n",
      "23000/23000 [==============================] - 6s - loss: 0.5673 - acc: 0.6999 - val_loss: 0.1169 - val_acc: 0.9630\n",
      "Train on 23000 samples, validate on 2000 samples\n",
      "Epoch 1/1\n",
      "23000/23000 [==============================] - 6s - loss: 0.5551 - acc: 0.7021 - val_loss: 0.1268 - val_acc: 0.9580\n",
      "Train on 23000 samples, validate on 2000 samples\n",
      "Epoch 1/1\n",
      "23000/23000 [==============================] - 6s - loss: 0.5464 - acc: 0.7116 - val_loss: 0.1122 - val_acc: 0.9635\n",
      "Train on 23000 samples, validate on 2000 samples\n",
      "Epoch 1/1\n",
      "23000/23000 [==============================] - 6s - loss: 0.1511 - acc: 0.9394 - val_loss: 0.0814 - val_acc: 0.9710\n",
      "Train on 23000 samples, validate on 2000 samples\n",
      "Epoch 1/1\n",
      "23000/23000 [==============================] - 6s - loss: 0.5565 - acc: 0.7090 - val_loss: 0.1188 - val_acc: 0.9575\n",
      "Train on 23000 samples, validate on 2000 samples\n",
      "Epoch 1/1\n",
      "23000/23000 [==============================] - 6s - loss: 0.5420 - acc: 0.7119 - val_loss: 0.1006 - val_acc: 0.9680\n",
      "Train on 23000 samples, validate on 2000 samples\n",
      "Epoch 1/1\n",
      "23000/23000 [==============================] - 6s - loss: 0.5390 - acc: 0.7167 - val_loss: 0.1062 - val_acc: 0.9610\n",
      "Train on 23000 samples, validate on 2000 samples\n",
      "Epoch 1/1\n",
      "23000/23000 [==============================] - 6s - loss: 0.1455 - acc: 0.9415 - val_loss: 0.0776 - val_acc: 0.9685\n",
      "Train on 23000 samples, validate on 2000 samples\n",
      "Epoch 1/1\n",
      "23000/23000 [==============================] - 6s - loss: 0.5475 - acc: 0.7113 - val_loss: 0.1215 - val_acc: 0.9565\n",
      "Train on 23000 samples, validate on 2000 samples\n",
      "Epoch 1/1\n",
      "23000/23000 [==============================] - 6s - loss: 0.5374 - acc: 0.7167 - val_loss: 0.1139 - val_acc: 0.9565\n",
      "Train on 23000 samples, validate on 2000 samples\n",
      "Epoch 1/1\n",
      "23000/23000 [==============================] - 6s - loss: 0.5253 - acc: 0.7227 - val_loss: 0.1073 - val_acc: 0.9590\n"
     ]
    }
   ],
   "source": [
    "model.optimizer.lr = .00001\n",
    "for _ in range(3):\n",
    "    model.fit(X_train, y_train, epochs=1, validation_data=(X_valid, y_valid))\n",
    "    model.fit(X_train_aug_1, y_train, epochs=1, validation_data=(X_valid, y_valid))\n",
    "    model.fit(X_train_aug_2, y_train, epochs=1, validation_data=(X_valid, y_valid))\n",
    "    model.fit(X_train_aug_3, y_train, epochs=1, validation_data=(X_valid, y_valid))"
   ]
  },
  {
   "cell_type": "code",
   "execution_count": null,
   "metadata": {},
   "outputs": [
    {
     "name": "stdout",
     "output_type": "stream",
     "text": [
      "Train on 23000 samples, validate on 2000 samples\n",
      "Epoch 1/1\n",
      "23000/23000 [==============================] - 6s - loss: 0.1445 - acc: 0.9420 - val_loss: 0.0736 - val_acc: 0.9700\n",
      "Train on 23000 samples, validate on 2000 samples\n",
      "Epoch 1/1\n",
      "23000/23000 [==============================] - 6s - loss: 0.5479 - acc: 0.7107 - val_loss: 0.2146 - val_acc: 0.9075\n",
      "Train on 23000 samples, validate on 2000 samples\n",
      "Epoch 1/1\n",
      "23000/23000 [==============================] - 6s - loss: 0.5341 - acc: 0.7199 - val_loss: 0.1111 - val_acc: 0.9585\n",
      "Train on 23000 samples, validate on 2000 samples\n",
      "Epoch 1/1\n",
      "19680/23000 [========================>.....] - ETA: 0s - loss: 0.5270 - acc: 0.7206"
     ]
    }
   ],
   "source": [
    "model.optimizer.lr = .000001\n",
    "for _ in range(5):\n",
    "    model.fit(X_train, y_train, epochs=1, validation_data=(X_valid, y_valid))\n",
    "    model.fit(X_train_aug_1, y_train, epochs=1, validation_data=(X_valid, y_valid))\n",
    "    model.fit(X_train_aug_2, y_train, epochs=1, validation_data=(X_valid, y_valid))\n",
    "    model.fit(X_train_aug_3, y_train, epochs=1, validation_data=(X_valid, y_valid))"
   ]
  },
  {
   "cell_type": "code",
   "execution_count": null,
   "metadata": {},
   "outputs": [],
   "source": []
  }
 ],
 "metadata": {
  "kernelspec": {
   "display_name": "Python 3",
   "language": "python",
   "name": "python3"
  },
  "language_info": {
   "codemirror_mode": {
    "name": "ipython",
    "version": 3
   },
   "file_extension": ".py",
   "mimetype": "text/x-python",
   "name": "python",
   "nbconvert_exporter": "python",
   "pygments_lexer": "ipython3",
   "version": "3.6.3"
  }
 },
 "nbformat": 4,
 "nbformat_minor": 2
}
